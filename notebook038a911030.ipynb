{
 "cells": [
  {
   "cell_type": "code",
   "execution_count": 1,
   "id": "d1cdcbeb",
   "metadata": {
    "_cell_guid": "b1076dfc-b9ad-4769-8c92-a6c4dae69d19",
    "_uuid": "8f2839f25d086af736a60e9eeb907d3b93b6e0e5",
    "execution": {
     "iopub.execute_input": "2022-04-25T10:07:37.047074Z",
     "iopub.status.busy": "2022-04-25T10:07:37.046570Z",
     "iopub.status.idle": "2022-04-25T10:07:37.064822Z",
     "shell.execute_reply": "2022-04-25T10:07:37.063939Z"
    },
    "papermill": {
     "duration": 0.044813,
     "end_time": "2022-04-25T10:07:37.067003",
     "exception": false,
     "start_time": "2022-04-25T10:07:37.022190",
     "status": "completed"
    },
    "tags": []
   },
   "outputs": [
    {
     "name": "stdout",
     "output_type": "stream",
     "text": [
      "/kaggle/input/drug-classification/drug200.csv\n"
     ]
    }
   ],
   "source": [
    "# This Python 3 environment comes with many helpful analytics libraries installed\n",
    "# It is defined by the kaggle/python Docker image: https://github.com/kaggle/docker-python\n",
    "# For example, here's several helpful packages to load\n",
    "\n",
    "import numpy as np # linear algebra\n",
    "import pandas as pd # data processing, CSV file I/O (e.g. pd.read_csv)\n",
    "\n",
    "# Input data files are available in the read-only \"../input/\" directory\n",
    "# For example, running this (by clicking run or pressing Shift+Enter) will list all files under the input directory\n",
    "\n",
    "import os\n",
    "for dirname, _, filenames in os.walk('/kaggle/input'):\n",
    "    for filename in filenames:\n",
    "        print(os.path.join(dirname, filename))\n",
    "\n",
    "# You can write up to 20GB to the current directory (/kaggle/working/) that gets preserved as output when you create a version using \"Save & Run All\" \n",
    "# You can also write temporary files to /kaggle/temp/, but they won't be saved outside of the current session"
   ]
  },
  {
   "cell_type": "code",
   "execution_count": 2,
   "id": "a64037d9",
   "metadata": {
    "execution": {
     "iopub.execute_input": "2022-04-25T10:07:37.111719Z",
     "iopub.status.busy": "2022-04-25T10:07:37.111277Z",
     "iopub.status.idle": "2022-04-25T10:07:37.141989Z",
     "shell.execute_reply": "2022-04-25T10:07:37.141251Z"
    },
    "papermill": {
     "duration": 0.056229,
     "end_time": "2022-04-25T10:07:37.144345",
     "exception": false,
     "start_time": "2022-04-25T10:07:37.088116",
     "status": "completed"
    },
    "tags": []
   },
   "outputs": [
    {
     "data": {
      "text/html": [
       "<div>\n",
       "<style scoped>\n",
       "    .dataframe tbody tr th:only-of-type {\n",
       "        vertical-align: middle;\n",
       "    }\n",
       "\n",
       "    .dataframe tbody tr th {\n",
       "        vertical-align: top;\n",
       "    }\n",
       "\n",
       "    .dataframe thead th {\n",
       "        text-align: right;\n",
       "    }\n",
       "</style>\n",
       "<table border=\"1\" class=\"dataframe\">\n",
       "  <thead>\n",
       "    <tr style=\"text-align: right;\">\n",
       "      <th></th>\n",
       "      <th>Age</th>\n",
       "      <th>Sex</th>\n",
       "      <th>BP</th>\n",
       "      <th>Cholesterol</th>\n",
       "      <th>Na_to_K</th>\n",
       "      <th>Drug</th>\n",
       "    </tr>\n",
       "  </thead>\n",
       "  <tbody>\n",
       "    <tr>\n",
       "      <th>0</th>\n",
       "      <td>23</td>\n",
       "      <td>F</td>\n",
       "      <td>HIGH</td>\n",
       "      <td>HIGH</td>\n",
       "      <td>25.355</td>\n",
       "      <td>DrugY</td>\n",
       "    </tr>\n",
       "    <tr>\n",
       "      <th>1</th>\n",
       "      <td>47</td>\n",
       "      <td>M</td>\n",
       "      <td>LOW</td>\n",
       "      <td>HIGH</td>\n",
       "      <td>13.093</td>\n",
       "      <td>drugC</td>\n",
       "    </tr>\n",
       "    <tr>\n",
       "      <th>2</th>\n",
       "      <td>47</td>\n",
       "      <td>M</td>\n",
       "      <td>LOW</td>\n",
       "      <td>HIGH</td>\n",
       "      <td>10.114</td>\n",
       "      <td>drugC</td>\n",
       "    </tr>\n",
       "    <tr>\n",
       "      <th>3</th>\n",
       "      <td>28</td>\n",
       "      <td>F</td>\n",
       "      <td>NORMAL</td>\n",
       "      <td>HIGH</td>\n",
       "      <td>7.798</td>\n",
       "      <td>drugX</td>\n",
       "    </tr>\n",
       "    <tr>\n",
       "      <th>4</th>\n",
       "      <td>61</td>\n",
       "      <td>F</td>\n",
       "      <td>LOW</td>\n",
       "      <td>HIGH</td>\n",
       "      <td>18.043</td>\n",
       "      <td>DrugY</td>\n",
       "    </tr>\n",
       "  </tbody>\n",
       "</table>\n",
       "</div>"
      ],
      "text/plain": [
       "   Age Sex      BP Cholesterol  Na_to_K   Drug\n",
       "0   23   F    HIGH        HIGH   25.355  DrugY\n",
       "1   47   M     LOW        HIGH   13.093  drugC\n",
       "2   47   M     LOW        HIGH   10.114  drugC\n",
       "3   28   F  NORMAL        HIGH    7.798  drugX\n",
       "4   61   F     LOW        HIGH   18.043  DrugY"
      ]
     },
     "execution_count": 2,
     "metadata": {},
     "output_type": "execute_result"
    }
   ],
   "source": [
    "df=pd.read_csv(\"../input/drug-classification/drug200.csv\")\n",
    "df.head()"
   ]
  },
  {
   "cell_type": "code",
   "execution_count": 3,
   "id": "d3a88dcc",
   "metadata": {
    "execution": {
     "iopub.execute_input": "2022-04-25T10:07:37.188366Z",
     "iopub.status.busy": "2022-04-25T10:07:37.187873Z",
     "iopub.status.idle": "2022-04-25T10:07:37.210350Z",
     "shell.execute_reply": "2022-04-25T10:07:37.209654Z"
    },
    "papermill": {
     "duration": 0.04689,
     "end_time": "2022-04-25T10:07:37.212240",
     "exception": false,
     "start_time": "2022-04-25T10:07:37.165350",
     "status": "completed"
    },
    "tags": []
   },
   "outputs": [
    {
     "data": {
      "text/html": [
       "<div>\n",
       "<style scoped>\n",
       "    .dataframe tbody tr th:only-of-type {\n",
       "        vertical-align: middle;\n",
       "    }\n",
       "\n",
       "    .dataframe tbody tr th {\n",
       "        vertical-align: top;\n",
       "    }\n",
       "\n",
       "    .dataframe thead th {\n",
       "        text-align: right;\n",
       "    }\n",
       "</style>\n",
       "<table border=\"1\" class=\"dataframe\">\n",
       "  <thead>\n",
       "    <tr style=\"text-align: right;\">\n",
       "      <th></th>\n",
       "      <th>Age</th>\n",
       "      <th>Sex</th>\n",
       "      <th>BP</th>\n",
       "      <th>Cholesterol</th>\n",
       "      <th>Na_to_K</th>\n",
       "    </tr>\n",
       "  </thead>\n",
       "  <tbody>\n",
       "    <tr>\n",
       "      <th>0</th>\n",
       "      <td>23</td>\n",
       "      <td>F</td>\n",
       "      <td>HIGH</td>\n",
       "      <td>HIGH</td>\n",
       "      <td>25.355</td>\n",
       "    </tr>\n",
       "    <tr>\n",
       "      <th>1</th>\n",
       "      <td>47</td>\n",
       "      <td>M</td>\n",
       "      <td>LOW</td>\n",
       "      <td>HIGH</td>\n",
       "      <td>13.093</td>\n",
       "    </tr>\n",
       "    <tr>\n",
       "      <th>2</th>\n",
       "      <td>47</td>\n",
       "      <td>M</td>\n",
       "      <td>LOW</td>\n",
       "      <td>HIGH</td>\n",
       "      <td>10.114</td>\n",
       "    </tr>\n",
       "    <tr>\n",
       "      <th>3</th>\n",
       "      <td>28</td>\n",
       "      <td>F</td>\n",
       "      <td>NORMAL</td>\n",
       "      <td>HIGH</td>\n",
       "      <td>7.798</td>\n",
       "    </tr>\n",
       "    <tr>\n",
       "      <th>4</th>\n",
       "      <td>61</td>\n",
       "      <td>F</td>\n",
       "      <td>LOW</td>\n",
       "      <td>HIGH</td>\n",
       "      <td>18.043</td>\n",
       "    </tr>\n",
       "    <tr>\n",
       "      <th>...</th>\n",
       "      <td>...</td>\n",
       "      <td>...</td>\n",
       "      <td>...</td>\n",
       "      <td>...</td>\n",
       "      <td>...</td>\n",
       "    </tr>\n",
       "    <tr>\n",
       "      <th>195</th>\n",
       "      <td>56</td>\n",
       "      <td>F</td>\n",
       "      <td>LOW</td>\n",
       "      <td>HIGH</td>\n",
       "      <td>11.567</td>\n",
       "    </tr>\n",
       "    <tr>\n",
       "      <th>196</th>\n",
       "      <td>16</td>\n",
       "      <td>M</td>\n",
       "      <td>LOW</td>\n",
       "      <td>HIGH</td>\n",
       "      <td>12.006</td>\n",
       "    </tr>\n",
       "    <tr>\n",
       "      <th>197</th>\n",
       "      <td>52</td>\n",
       "      <td>M</td>\n",
       "      <td>NORMAL</td>\n",
       "      <td>HIGH</td>\n",
       "      <td>9.894</td>\n",
       "    </tr>\n",
       "    <tr>\n",
       "      <th>198</th>\n",
       "      <td>23</td>\n",
       "      <td>M</td>\n",
       "      <td>NORMAL</td>\n",
       "      <td>NORMAL</td>\n",
       "      <td>14.020</td>\n",
       "    </tr>\n",
       "    <tr>\n",
       "      <th>199</th>\n",
       "      <td>40</td>\n",
       "      <td>F</td>\n",
       "      <td>LOW</td>\n",
       "      <td>NORMAL</td>\n",
       "      <td>11.349</td>\n",
       "    </tr>\n",
       "  </tbody>\n",
       "</table>\n",
       "<p>200 rows × 5 columns</p>\n",
       "</div>"
      ],
      "text/plain": [
       "     Age Sex      BP Cholesterol  Na_to_K\n",
       "0     23   F    HIGH        HIGH   25.355\n",
       "1     47   M     LOW        HIGH   13.093\n",
       "2     47   M     LOW        HIGH   10.114\n",
       "3     28   F  NORMAL        HIGH    7.798\n",
       "4     61   F     LOW        HIGH   18.043\n",
       "..   ...  ..     ...         ...      ...\n",
       "195   56   F     LOW        HIGH   11.567\n",
       "196   16   M     LOW        HIGH   12.006\n",
       "197   52   M  NORMAL        HIGH    9.894\n",
       "198   23   M  NORMAL      NORMAL   14.020\n",
       "199   40   F     LOW      NORMAL   11.349\n",
       "\n",
       "[200 rows x 5 columns]"
      ]
     },
     "execution_count": 3,
     "metadata": {},
     "output_type": "execute_result"
    }
   ],
   "source": [
    "inputs = df.drop('Drug',axis='columns')\n",
    "target = df['Drug']\n",
    "inputs"
   ]
  },
  {
   "cell_type": "code",
   "execution_count": 4,
   "id": "33c6e825",
   "metadata": {
    "execution": {
     "iopub.execute_input": "2022-04-25T10:07:37.257115Z",
     "iopub.status.busy": "2022-04-25T10:07:37.256831Z",
     "iopub.status.idle": "2022-04-25T10:07:37.267111Z",
     "shell.execute_reply": "2022-04-25T10:07:37.266364Z"
    },
    "papermill": {
     "duration": 0.035081,
     "end_time": "2022-04-25T10:07:37.269053",
     "exception": false,
     "start_time": "2022-04-25T10:07:37.233972",
     "status": "completed"
    },
    "tags": []
   },
   "outputs": [],
   "source": [
    "inputs['Sex'] = inputs['Sex'].map({'M': 1, 'F': 2})\n",
    "inputs.BP = inputs.BP.map({'LOW': 1, 'NORMAL': 2,'HIGH':3})\n",
    "inputs.Cholesterol = inputs.Cholesterol.map({'LOW': 1, 'NORMAL': 2,'HIGH':3})"
   ]
  },
  {
   "cell_type": "code",
   "execution_count": 5,
   "id": "ae25f9da",
   "metadata": {
    "execution": {
     "iopub.execute_input": "2022-04-25T10:07:37.314486Z",
     "iopub.status.busy": "2022-04-25T10:07:37.313595Z",
     "iopub.status.idle": "2022-04-25T10:07:37.324974Z",
     "shell.execute_reply": "2022-04-25T10:07:37.324197Z"
    },
    "papermill": {
     "duration": 0.036432,
     "end_time": "2022-04-25T10:07:37.327106",
     "exception": false,
     "start_time": "2022-04-25T10:07:37.290674",
     "status": "completed"
    },
    "tags": []
   },
   "outputs": [
    {
     "data": {
      "text/html": [
       "<div>\n",
       "<style scoped>\n",
       "    .dataframe tbody tr th:only-of-type {\n",
       "        vertical-align: middle;\n",
       "    }\n",
       "\n",
       "    .dataframe tbody tr th {\n",
       "        vertical-align: top;\n",
       "    }\n",
       "\n",
       "    .dataframe thead th {\n",
       "        text-align: right;\n",
       "    }\n",
       "</style>\n",
       "<table border=\"1\" class=\"dataframe\">\n",
       "  <thead>\n",
       "    <tr style=\"text-align: right;\">\n",
       "      <th></th>\n",
       "      <th>Age</th>\n",
       "      <th>Sex</th>\n",
       "      <th>BP</th>\n",
       "      <th>Cholesterol</th>\n",
       "      <th>Na_to_K</th>\n",
       "    </tr>\n",
       "  </thead>\n",
       "  <tbody>\n",
       "    <tr>\n",
       "      <th>0</th>\n",
       "      <td>23</td>\n",
       "      <td>2</td>\n",
       "      <td>3</td>\n",
       "      <td>3</td>\n",
       "      <td>25.355</td>\n",
       "    </tr>\n",
       "    <tr>\n",
       "      <th>1</th>\n",
       "      <td>47</td>\n",
       "      <td>1</td>\n",
       "      <td>1</td>\n",
       "      <td>3</td>\n",
       "      <td>13.093</td>\n",
       "    </tr>\n",
       "    <tr>\n",
       "      <th>2</th>\n",
       "      <td>47</td>\n",
       "      <td>1</td>\n",
       "      <td>1</td>\n",
       "      <td>3</td>\n",
       "      <td>10.114</td>\n",
       "    </tr>\n",
       "    <tr>\n",
       "      <th>3</th>\n",
       "      <td>28</td>\n",
       "      <td>2</td>\n",
       "      <td>2</td>\n",
       "      <td>3</td>\n",
       "      <td>7.798</td>\n",
       "    </tr>\n",
       "    <tr>\n",
       "      <th>4</th>\n",
       "      <td>61</td>\n",
       "      <td>2</td>\n",
       "      <td>1</td>\n",
       "      <td>3</td>\n",
       "      <td>18.043</td>\n",
       "    </tr>\n",
       "  </tbody>\n",
       "</table>\n",
       "</div>"
      ],
      "text/plain": [
       "   Age  Sex  BP  Cholesterol  Na_to_K\n",
       "0   23    2   3            3   25.355\n",
       "1   47    1   1            3   13.093\n",
       "2   47    1   1            3   10.114\n",
       "3   28    2   2            3    7.798\n",
       "4   61    2   1            3   18.043"
      ]
     },
     "execution_count": 5,
     "metadata": {},
     "output_type": "execute_result"
    }
   ],
   "source": [
    "inputs.head()"
   ]
  },
  {
   "cell_type": "markdown",
   "id": "8a965af3",
   "metadata": {
    "papermill": {
     "duration": 0.022253,
     "end_time": "2022-04-25T10:07:37.371276",
     "exception": false,
     "start_time": "2022-04-25T10:07:37.349023",
     "status": "completed"
    },
    "tags": []
   },
   "source": [
    "# test train split"
   ]
  },
  {
   "cell_type": "code",
   "execution_count": 6,
   "id": "6e34df0d",
   "metadata": {
    "execution": {
     "iopub.execute_input": "2022-04-25T10:07:37.417037Z",
     "iopub.status.busy": "2022-04-25T10:07:37.416282Z",
     "iopub.status.idle": "2022-04-25T10:07:38.549122Z",
     "shell.execute_reply": "2022-04-25T10:07:38.548090Z"
    },
    "papermill": {
     "duration": 1.158468,
     "end_time": "2022-04-25T10:07:38.551670",
     "exception": false,
     "start_time": "2022-04-25T10:07:37.393202",
     "status": "completed"
    },
    "tags": []
   },
   "outputs": [],
   "source": [
    "from sklearn.model_selection import train_test_split"
   ]
  },
  {
   "cell_type": "code",
   "execution_count": 7,
   "id": "c6414b87",
   "metadata": {
    "execution": {
     "iopub.execute_input": "2022-04-25T10:07:38.600904Z",
     "iopub.status.busy": "2022-04-25T10:07:38.599900Z",
     "iopub.status.idle": "2022-04-25T10:07:38.606503Z",
     "shell.execute_reply": "2022-04-25T10:07:38.605907Z"
    },
    "papermill": {
     "duration": 0.033383,
     "end_time": "2022-04-25T10:07:38.608500",
     "exception": false,
     "start_time": "2022-04-25T10:07:38.575117",
     "status": "completed"
    },
    "tags": []
   },
   "outputs": [],
   "source": [
    "X_train, X_test, y_train, y_test = train_test_split(inputs,target,test_size=0.2)"
   ]
  },
  {
   "cell_type": "code",
   "execution_count": 8,
   "id": "35a5a2e6",
   "metadata": {
    "execution": {
     "iopub.execute_input": "2022-04-25T10:07:38.655354Z",
     "iopub.status.busy": "2022-04-25T10:07:38.654566Z",
     "iopub.status.idle": "2022-04-25T10:07:38.660854Z",
     "shell.execute_reply": "2022-04-25T10:07:38.659846Z"
    },
    "papermill": {
     "duration": 0.032018,
     "end_time": "2022-04-25T10:07:38.663298",
     "exception": false,
     "start_time": "2022-04-25T10:07:38.631280",
     "status": "completed"
    },
    "tags": []
   },
   "outputs": [
    {
     "data": {
      "text/plain": [
       "160"
      ]
     },
     "execution_count": 8,
     "metadata": {},
     "output_type": "execute_result"
    }
   ],
   "source": [
    "len(X_train)"
   ]
  },
  {
   "cell_type": "code",
   "execution_count": 9,
   "id": "0cb142b7",
   "metadata": {
    "execution": {
     "iopub.execute_input": "2022-04-25T10:07:38.711495Z",
     "iopub.status.busy": "2022-04-25T10:07:38.710537Z",
     "iopub.status.idle": "2022-04-25T10:07:38.717217Z",
     "shell.execute_reply": "2022-04-25T10:07:38.716519Z"
    },
    "papermill": {
     "duration": 0.03228,
     "end_time": "2022-04-25T10:07:38.719167",
     "exception": false,
     "start_time": "2022-04-25T10:07:38.686887",
     "status": "completed"
    },
    "tags": []
   },
   "outputs": [
    {
     "data": {
      "text/plain": [
       "40"
      ]
     },
     "execution_count": 9,
     "metadata": {},
     "output_type": "execute_result"
    }
   ],
   "source": [
    "len(X_test)"
   ]
  },
  {
   "cell_type": "markdown",
   "id": "4abe4f6f",
   "metadata": {
    "papermill": {
     "duration": 0.023842,
     "end_time": "2022-04-25T10:07:38.768187",
     "exception": false,
     "start_time": "2022-04-25T10:07:38.744345",
     "status": "completed"
    },
    "tags": []
   },
   "source": [
    "# decision tree"
   ]
  },
  {
   "cell_type": "code",
   "execution_count": 10,
   "id": "7d9184a9",
   "metadata": {
    "execution": {
     "iopub.execute_input": "2022-04-25T10:07:38.817005Z",
     "iopub.status.busy": "2022-04-25T10:07:38.816462Z",
     "iopub.status.idle": "2022-04-25T10:07:38.981223Z",
     "shell.execute_reply": "2022-04-25T10:07:38.980320Z"
    },
    "papermill": {
     "duration": 0.191853,
     "end_time": "2022-04-25T10:07:38.983696",
     "exception": false,
     "start_time": "2022-04-25T10:07:38.791843",
     "status": "completed"
    },
    "tags": []
   },
   "outputs": [],
   "source": [
    "from sklearn import tree\n",
    "model = tree.DecisionTreeClassifier()"
   ]
  },
  {
   "cell_type": "code",
   "execution_count": 11,
   "id": "6feba6d5",
   "metadata": {
    "execution": {
     "iopub.execute_input": "2022-04-25T10:07:39.034570Z",
     "iopub.status.busy": "2022-04-25T10:07:39.033674Z",
     "iopub.status.idle": "2022-04-25T10:07:39.046537Z",
     "shell.execute_reply": "2022-04-25T10:07:39.045675Z"
    },
    "papermill": {
     "duration": 0.040379,
     "end_time": "2022-04-25T10:07:39.048722",
     "exception": false,
     "start_time": "2022-04-25T10:07:39.008343",
     "status": "completed"
    },
    "tags": []
   },
   "outputs": [
    {
     "data": {
      "text/plain": [
       "DecisionTreeClassifier()"
      ]
     },
     "execution_count": 11,
     "metadata": {},
     "output_type": "execute_result"
    }
   ],
   "source": [
    "model.fit(X_train,y_train)"
   ]
  },
  {
   "cell_type": "code",
   "execution_count": 12,
   "id": "22fc417a",
   "metadata": {
    "execution": {
     "iopub.execute_input": "2022-04-25T10:07:39.097716Z",
     "iopub.status.busy": "2022-04-25T10:07:39.097121Z",
     "iopub.status.idle": "2022-04-25T10:07:39.105696Z",
     "shell.execute_reply": "2022-04-25T10:07:39.104855Z"
    },
    "papermill": {
     "duration": 0.035114,
     "end_time": "2022-04-25T10:07:39.107708",
     "exception": false,
     "start_time": "2022-04-25T10:07:39.072594",
     "status": "completed"
    },
    "tags": []
   },
   "outputs": [
    {
     "data": {
      "text/plain": [
       "1.0"
      ]
     },
     "execution_count": 12,
     "metadata": {},
     "output_type": "execute_result"
    }
   ],
   "source": [
    "model.score(X_test,y_test)"
   ]
  },
  {
   "cell_type": "markdown",
   "id": "935738db",
   "metadata": {
    "papermill": {
     "duration": 0.023194,
     "end_time": "2022-04-25T10:07:39.154638",
     "exception": false,
     "start_time": "2022-04-25T10:07:39.131444",
     "status": "completed"
    },
    "tags": []
   },
   "source": [
    "# knn"
   ]
  },
  {
   "cell_type": "code",
   "execution_count": 13,
   "id": "0ddb5177",
   "metadata": {
    "execution": {
     "iopub.execute_input": "2022-04-25T10:07:39.204937Z",
     "iopub.status.busy": "2022-04-25T10:07:39.204343Z",
     "iopub.status.idle": "2022-04-25T10:07:39.208882Z",
     "shell.execute_reply": "2022-04-25T10:07:39.208218Z"
    },
    "papermill": {
     "duration": 0.032021,
     "end_time": "2022-04-25T10:07:39.211190",
     "exception": false,
     "start_time": "2022-04-25T10:07:39.179169",
     "status": "completed"
    },
    "tags": []
   },
   "outputs": [],
   "source": [
    "from sklearn.neighbors import KNeighborsClassifier\n",
    "knn = KNeighborsClassifier(n_neighbors=5)"
   ]
  },
  {
   "cell_type": "code",
   "execution_count": 14,
   "id": "eee79b84",
   "metadata": {
    "execution": {
     "iopub.execute_input": "2022-04-25T10:07:39.260067Z",
     "iopub.status.busy": "2022-04-25T10:07:39.259768Z",
     "iopub.status.idle": "2022-04-25T10:07:39.268988Z",
     "shell.execute_reply": "2022-04-25T10:07:39.268188Z"
    },
    "papermill": {
     "duration": 0.036552,
     "end_time": "2022-04-25T10:07:39.271514",
     "exception": false,
     "start_time": "2022-04-25T10:07:39.234962",
     "status": "completed"
    },
    "tags": []
   },
   "outputs": [
    {
     "data": {
      "text/plain": [
       "KNeighborsClassifier()"
      ]
     },
     "execution_count": 14,
     "metadata": {},
     "output_type": "execute_result"
    }
   ],
   "source": [
    "knn.fit(X_train, y_train)"
   ]
  },
  {
   "cell_type": "code",
   "execution_count": 15,
   "id": "8c79536f",
   "metadata": {
    "execution": {
     "iopub.execute_input": "2022-04-25T10:07:39.321098Z",
     "iopub.status.busy": "2022-04-25T10:07:39.320808Z",
     "iopub.status.idle": "2022-04-25T10:07:39.331530Z",
     "shell.execute_reply": "2022-04-25T10:07:39.330604Z"
    },
    "papermill": {
     "duration": 0.03783,
     "end_time": "2022-04-25T10:07:39.333514",
     "exception": false,
     "start_time": "2022-04-25T10:07:39.295684",
     "status": "completed"
    },
    "tags": []
   },
   "outputs": [
    {
     "data": {
      "text/plain": [
       "0.675"
      ]
     },
     "execution_count": 15,
     "metadata": {},
     "output_type": "execute_result"
    }
   ],
   "source": [
    "knn.score(X_test,y_test)"
   ]
  },
  {
   "cell_type": "code",
   "execution_count": 16,
   "id": "966966a6",
   "metadata": {
    "execution": {
     "iopub.execute_input": "2022-04-25T10:07:39.383885Z",
     "iopub.status.busy": "2022-04-25T10:07:39.383042Z",
     "iopub.status.idle": "2022-04-25T10:07:39.397161Z",
     "shell.execute_reply": "2022-04-25T10:07:39.396245Z"
    },
    "papermill": {
     "duration": 0.041632,
     "end_time": "2022-04-25T10:07:39.399361",
     "exception": false,
     "start_time": "2022-04-25T10:07:39.357729",
     "status": "completed"
    },
    "tags": []
   },
   "outputs": [
    {
     "data": {
      "text/plain": [
       "array([[14,  0,  0,  0,  0],\n",
       "       [ 0,  4,  0,  1,  2],\n",
       "       [ 1,  0,  2,  0,  4],\n",
       "       [ 0,  0,  1,  1,  2],\n",
       "       [ 0,  2,  0,  0,  6]])"
      ]
     },
     "execution_count": 16,
     "metadata": {},
     "output_type": "execute_result"
    }
   ],
   "source": [
    "from sklearn.metrics import confusion_matrix\n",
    "y_pred = knn.predict(X_test)\n",
    "cm = confusion_matrix(y_test, y_pred)\n",
    "cm"
   ]
  },
  {
   "cell_type": "code",
   "execution_count": 17,
   "id": "748100eb",
   "metadata": {
    "execution": {
     "iopub.execute_input": "2022-04-25T10:07:39.450258Z",
     "iopub.status.busy": "2022-04-25T10:07:39.449976Z",
     "iopub.status.idle": "2022-04-25T10:07:39.985402Z",
     "shell.execute_reply": "2022-04-25T10:07:39.984258Z"
    },
    "papermill": {
     "duration": 0.563573,
     "end_time": "2022-04-25T10:07:39.987681",
     "exception": false,
     "start_time": "2022-04-25T10:07:39.424108",
     "status": "completed"
    },
    "tags": []
   },
   "outputs": [
    {
     "data": {
      "text/plain": [
       "Text(42.0, 0.5, 'Truth')"
      ]
     },
     "execution_count": 17,
     "metadata": {},
     "output_type": "execute_result"
    },
    {
     "data": {
      "image/png": "[encoded data removed]",
      "text/plain": [
       "<Figure size 504x360 with 2 Axes>"
      ]
     },
     "metadata": {
      "needs_background": "light"
     },
     "output_type": "display_data"
    }
   ],
   "source": [
    "%matplotlib inline\n",
    "import matplotlib.pyplot as plt\n",
    "import seaborn as sn\n",
    "plt.figure(figsize=(7,5))\n",
    "sn.heatmap(cm, annot=True)\n",
    "plt.xlabel('Predicted')\n",
    "plt.ylabel('Truth')"
   ]
  }
 ],
 "metadata": {
  "kernelspec": {
   "display_name": "Python 3",
   "language": "python",
   "name": "python3"
  },
  "language_info": {
   "codemirror_mode": {
    "name": "ipython",
    "version": 3
   },
   "file_extension": ".py",
   "mimetype": "text/x-python",
   "name": "python",
   "nbconvert_exporter": "python",
   "pygments_lexer": "ipython3",
   "version": "3.7.12"
  },
  "papermill": {
   "default_parameters": {},
   "duration": 13.950525,
   "end_time": "2022-04-25T10:07:40.735314",
   "environment_variables": {},
   "exception": null,
   "input_path": "__notebook__.ipynb",
   "output_path": "__notebook__.ipynb",
   "parameters": {},
   "start_time": "2022-04-25T10:07:26.784789",
   "version": "2.3.4"
  }
 },
 "nbformat": 4,
 "nbformat_minor": 5
}
