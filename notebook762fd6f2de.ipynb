{
 "cells": [
  {
   "cell_type": "code",
   "execution_count": 1,
   "id": "0b09d31f",
   "metadata": {
    "_cell_guid": "b1076dfc-b9ad-4769-8c92-a6c4dae69d19",
    "_uuid": "8f2839f25d086af736a60e9eeb907d3b93b6e0e5",
    "execution": {
     "iopub.execute_input": "2022-04-27T03:03:25.730709Z",
     "iopub.status.busy": "2022-04-27T03:03:25.730128Z",
     "iopub.status.idle": "2022-04-27T03:03:25.744143Z",
     "shell.execute_reply": "2022-04-27T03:03:25.743278Z"
    },
    "papermill": {
     "duration": 0.041527,
     "end_time": "2022-04-27T03:03:25.746607",
     "exception": false,
     "start_time": "2022-04-27T03:03:25.705080",
     "status": "completed"
    },
    "tags": []
   },
   "outputs": [],
   "source": [
    "# This Python 3 environment comes with many helpful analytics libraries installed\n",
    "# It is defined by the kaggle/python Docker image: https://github.com/kaggle/docker-python\n",
    "# For example, here's several helpful packages to load\n",
    "\n",
    "import numpy as np # linear algebra\n",
    "import pandas as pd # data processing, CSV file I/O (e.g. pd.read_csv)\n",
    "\n",
    "# Input data files are available in the read-only \"../input/\" directory\n",
    "# For example, running this (by clicking run or pressing Shift+Enter) will list all files under the input directory\n",
    "\n",
    "import os\n",
    "for dirname, _, filenames in os.walk('/kaggle/input'):\n",
    "    for filename in filenames:\n",
    "        print(os.path.join(dirname, filename))\n",
    "\n",
    "# You can write up to 20GB to the current directory (/kaggle/working/) that gets preserved as output when you create a version using \"Save & Run All\" \n",
    "# You can also write temporary files to /kaggle/temp/, but they won't be saved outside of the current session"
   ]
  },
  {
   "cell_type": "code",
   "execution_count": 2,
   "id": "fe8aa0ea",
   "metadata": {
    "execution": {
     "iopub.execute_input": "2022-04-27T03:03:25.790883Z",
     "iopub.status.busy": "2022-04-27T03:03:25.790559Z",
     "iopub.status.idle": "2022-04-27T03:03:27.422531Z",
     "shell.execute_reply": "2022-04-27T03:03:27.421716Z"
    },
    "papermill": {
     "duration": 1.657015,
     "end_time": "2022-04-27T03:03:27.424871",
     "exception": false,
     "start_time": "2022-04-27T03:03:25.767856",
     "status": "completed"
    },
    "tags": []
   },
   "outputs": [],
   "source": [
    "from sklearn.cluster import KMeans\n",
    "import pandas as pd\n",
    "from sklearn.preprocessing import MinMaxScaler\n",
    "from matplotlib import pyplot as plt\n",
    "from sklearn.datasets import load_iris\n",
    "%matplotlib inline"
   ]
  },
  {
   "cell_type": "code",
   "execution_count": 3,
   "id": "950e493a",
   "metadata": {
    "execution": {
     "iopub.execute_input": "2022-04-27T03:03:27.467929Z",
     "iopub.status.busy": "2022-04-27T03:03:27.467679Z",
     "iopub.status.idle": "2022-04-27T03:03:27.478524Z",
     "shell.execute_reply": "2022-04-27T03:03:27.477833Z"
    },
    "papermill": {
     "duration": 0.034983,
     "end_time": "2022-04-27T03:03:27.480830",
     "exception": false,
     "start_time": "2022-04-27T03:03:27.445847",
     "status": "completed"
    },
    "tags": []
   },
   "outputs": [],
   "source": [
    "iris = load_iris()"
   ]
  },
  {
   "cell_type": "code",
   "execution_count": 4,
   "id": "801935a6",
   "metadata": {
    "execution": {
     "iopub.execute_input": "2022-04-27T03:03:27.525576Z",
     "iopub.status.busy": "2022-04-27T03:03:27.524623Z",
     "iopub.status.idle": "2022-04-27T03:03:27.552768Z",
     "shell.execute_reply": "2022-04-27T03:03:27.551958Z"
    },
    "papermill": {
     "duration": 0.054207,
     "end_time": "2022-04-27T03:03:27.556023",
     "exception": false,
     "start_time": "2022-04-27T03:03:27.501816",
     "status": "completed"
    },
    "tags": []
   },
   "outputs": [
    {
     "data": {
      "text/html": [
       "<div>\n",
       "<style scoped>\n",
       "    .dataframe tbody tr th:only-of-type {\n",
       "        vertical-align: middle;\n",
       "    }\n",
       "\n",
       "    .dataframe tbody tr th {\n",
       "        vertical-align: top;\n",
       "    }\n",
       "\n",
       "    .dataframe thead th {\n",
       "        text-align: right;\n",
       "    }\n",
       "</style>\n",
       "<table border=\"1\" class=\"dataframe\">\n",
       "  <thead>\n",
       "    <tr style=\"text-align: right;\">\n",
       "      <th></th>\n",
       "      <th>sepal length (cm)</th>\n",
       "      <th>sepal width (cm)</th>\n",
       "      <th>petal length (cm)</th>\n",
       "      <th>petal width (cm)</th>\n",
       "    </tr>\n",
       "  </thead>\n",
       "  <tbody>\n",
       "    <tr>\n",
       "      <th>0</th>\n",
       "      <td>5.1</td>\n",
       "      <td>3.5</td>\n",
       "      <td>1.4</td>\n",
       "      <td>0.2</td>\n",
       "    </tr>\n",
       "    <tr>\n",
       "      <th>1</th>\n",
       "      <td>4.9</td>\n",
       "      <td>3.0</td>\n",
       "      <td>1.4</td>\n",
       "      <td>0.2</td>\n",
       "    </tr>\n",
       "    <tr>\n",
       "      <th>2</th>\n",
       "      <td>4.7</td>\n",
       "      <td>3.2</td>\n",
       "      <td>1.3</td>\n",
       "      <td>0.2</td>\n",
       "    </tr>\n",
       "    <tr>\n",
       "      <th>3</th>\n",
       "      <td>4.6</td>\n",
       "      <td>3.1</td>\n",
       "      <td>1.5</td>\n",
       "      <td>0.2</td>\n",
       "    </tr>\n",
       "    <tr>\n",
       "      <th>4</th>\n",
       "      <td>5.0</td>\n",
       "      <td>3.6</td>\n",
       "      <td>1.4</td>\n",
       "      <td>0.2</td>\n",
       "    </tr>\n",
       "  </tbody>\n",
       "</table>\n",
       "</div>"
      ],
      "text/plain": [
       "   sepal length (cm)  sepal width (cm)  petal length (cm)  petal width (cm)\n",
       "0                5.1               3.5                1.4               0.2\n",
       "1                4.9               3.0                1.4               0.2\n",
       "2                4.7               3.2                1.3               0.2\n",
       "3                4.6               3.1                1.5               0.2\n",
       "4                5.0               3.6                1.4               0.2"
      ]
     },
     "execution_count": 4,
     "metadata": {},
     "output_type": "execute_result"
    }
   ],
   "source": [
    "df = pd.DataFrame(iris.data,columns=iris.feature_names)\n",
    "df.head()"
   ]
  },
  {
   "cell_type": "code",
   "execution_count": 5,
   "id": "a0135ccd",
   "metadata": {
    "execution": {
     "iopub.execute_input": "2022-04-27T03:03:27.601201Z",
     "iopub.status.busy": "2022-04-27T03:03:27.600694Z",
     "iopub.status.idle": "2022-04-27T03:03:27.617631Z",
     "shell.execute_reply": "2022-04-27T03:03:27.616992Z"
    },
    "papermill": {
     "duration": 0.041461,
     "end_time": "2022-04-27T03:03:27.619438",
     "exception": false,
     "start_time": "2022-04-27T03:03:27.577977",
     "status": "completed"
    },
    "tags": []
   },
   "outputs": [
    {
     "data": {
      "text/html": [
       "<div>\n",
       "<style scoped>\n",
       "    .dataframe tbody tr th:only-of-type {\n",
       "        vertical-align: middle;\n",
       "    }\n",
       "\n",
       "    .dataframe tbody tr th {\n",
       "        vertical-align: top;\n",
       "    }\n",
       "\n",
       "    .dataframe thead th {\n",
       "        text-align: right;\n",
       "    }\n",
       "</style>\n",
       "<table border=\"1\" class=\"dataframe\">\n",
       "  <thead>\n",
       "    <tr style=\"text-align: right;\">\n",
       "      <th></th>\n",
       "      <th>sepal length (cm)</th>\n",
       "      <th>sepal width (cm)</th>\n",
       "      <th>petal length (cm)</th>\n",
       "      <th>petal width (cm)</th>\n",
       "      <th>flower</th>\n",
       "    </tr>\n",
       "  </thead>\n",
       "  <tbody>\n",
       "    <tr>\n",
       "      <th>0</th>\n",
       "      <td>5.1</td>\n",
       "      <td>3.5</td>\n",
       "      <td>1.4</td>\n",
       "      <td>0.2</td>\n",
       "      <td>0</td>\n",
       "    </tr>\n",
       "    <tr>\n",
       "      <th>1</th>\n",
       "      <td>4.9</td>\n",
       "      <td>3.0</td>\n",
       "      <td>1.4</td>\n",
       "      <td>0.2</td>\n",
       "      <td>0</td>\n",
       "    </tr>\n",
       "    <tr>\n",
       "      <th>2</th>\n",
       "      <td>4.7</td>\n",
       "      <td>3.2</td>\n",
       "      <td>1.3</td>\n",
       "      <td>0.2</td>\n",
       "      <td>0</td>\n",
       "    </tr>\n",
       "    <tr>\n",
       "      <th>3</th>\n",
       "      <td>4.6</td>\n",
       "      <td>3.1</td>\n",
       "      <td>1.5</td>\n",
       "      <td>0.2</td>\n",
       "      <td>0</td>\n",
       "    </tr>\n",
       "    <tr>\n",
       "      <th>4</th>\n",
       "      <td>5.0</td>\n",
       "      <td>3.6</td>\n",
       "      <td>1.4</td>\n",
       "      <td>0.2</td>\n",
       "      <td>0</td>\n",
       "    </tr>\n",
       "  </tbody>\n",
       "</table>\n",
       "</div>"
      ],
      "text/plain": [
       "   sepal length (cm)  sepal width (cm)  petal length (cm)  petal width (cm)  \\\n",
       "0                5.1               3.5                1.4               0.2   \n",
       "1                4.9               3.0                1.4               0.2   \n",
       "2                4.7               3.2                1.3               0.2   \n",
       "3                4.6               3.1                1.5               0.2   \n",
       "4                5.0               3.6                1.4               0.2   \n",
       "\n",
       "   flower  \n",
       "0       0  \n",
       "1       0  \n",
       "2       0  \n",
       "3       0  \n",
       "4       0  "
      ]
     },
     "execution_count": 5,
     "metadata": {},
     "output_type": "execute_result"
    }
   ],
   "source": [
    "df['flower'] = iris.target\n",
    "df.head()"
   ]
  },
  {
   "cell_type": "code",
   "execution_count": 6,
   "id": "32a78943",
   "metadata": {
    "execution": {
     "iopub.execute_input": "2022-04-27T03:03:27.667016Z",
     "iopub.status.busy": "2022-04-27T03:03:27.666531Z",
     "iopub.status.idle": "2022-04-27T03:03:27.676289Z",
     "shell.execute_reply": "2022-04-27T03:03:27.675447Z"
    },
    "papermill": {
     "duration": 0.035842,
     "end_time": "2022-04-27T03:03:27.678619",
     "exception": false,
     "start_time": "2022-04-27T03:03:27.642777",
     "status": "completed"
    },
    "tags": []
   },
   "outputs": [],
   "source": [
    "df.drop(['sepal length (cm)', 'sepal width (cm)', 'flower'],axis='columns',inplace=True)"
   ]
  },
  {
   "cell_type": "code",
   "execution_count": 7,
   "id": "d9723a78",
   "metadata": {
    "execution": {
     "iopub.execute_input": "2022-04-27T03:03:27.724939Z",
     "iopub.status.busy": "2022-04-27T03:03:27.724523Z",
     "iopub.status.idle": "2022-04-27T03:03:27.735708Z",
     "shell.execute_reply": "2022-04-27T03:03:27.734581Z"
    },
    "papermill": {
     "duration": 0.037635,
     "end_time": "2022-04-27T03:03:27.738332",
     "exception": false,
     "start_time": "2022-04-27T03:03:27.700697",
     "status": "completed"
    },
    "tags": []
   },
   "outputs": [
    {
     "data": {
      "text/html": [
       "<div>\n",
       "<style scoped>\n",
       "    .dataframe tbody tr th:only-of-type {\n",
       "        vertical-align: middle;\n",
       "    }\n",
       "\n",
       "    .dataframe tbody tr th {\n",
       "        vertical-align: top;\n",
       "    }\n",
       "\n",
       "    .dataframe thead th {\n",
       "        text-align: right;\n",
       "    }\n",
       "</style>\n",
       "<table border=\"1\" class=\"dataframe\">\n",
       "  <thead>\n",
       "    <tr style=\"text-align: right;\">\n",
       "      <th></th>\n",
       "      <th>petal length (cm)</th>\n",
       "      <th>petal width (cm)</th>\n",
       "    </tr>\n",
       "  </thead>\n",
       "  <tbody>\n",
       "    <tr>\n",
       "      <th>0</th>\n",
       "      <td>1.4</td>\n",
       "      <td>0.2</td>\n",
       "    </tr>\n",
       "    <tr>\n",
       "      <th>1</th>\n",
       "      <td>1.4</td>\n",
       "      <td>0.2</td>\n",
       "    </tr>\n",
       "    <tr>\n",
       "      <th>2</th>\n",
       "      <td>1.3</td>\n",
       "      <td>0.2</td>\n",
       "    </tr>\n",
       "  </tbody>\n",
       "</table>\n",
       "</div>"
      ],
      "text/plain": [
       "   petal length (cm)  petal width (cm)\n",
       "0                1.4               0.2\n",
       "1                1.4               0.2\n",
       "2                1.3               0.2"
      ]
     },
     "execution_count": 7,
     "metadata": {},
     "output_type": "execute_result"
    }
   ],
   "source": [
    "df.head(3)"
   ]
  },
  {
   "cell_type": "code",
   "execution_count": 8,
   "id": "5bd2b6a6",
   "metadata": {
    "execution": {
     "iopub.execute_input": "2022-04-27T03:03:27.787037Z",
     "iopub.status.busy": "2022-04-27T03:03:27.786710Z",
     "iopub.status.idle": "2022-04-27T03:03:27.980395Z",
     "shell.execute_reply": "2022-04-27T03:03:27.979511Z"
    },
    "papermill": {
     "duration": 0.220967,
     "end_time": "2022-04-27T03:03:27.982903",
     "exception": false,
     "start_time": "2022-04-27T03:03:27.761936",
     "status": "completed"
    },
    "tags": []
   },
   "outputs": [
    {
     "data": {
      "image/png": "[encoded data removed]",
      "text/plain": [
       "<Figure size 432x288 with 1 Axes>"
      ]
     },
     "metadata": {
      "needs_background": "light"
     },
     "output_type": "display_data"
    }
   ],
   "source": [
    "import matplotlib.pyplot as plt\n",
    "plt.scatter(df['petal length (cm)'],df['petal width (cm)'])\n",
    "plt.show()"
   ]
  },
  {
   "cell_type": "markdown",
   "id": "72510372",
   "metadata": {
    "papermill": {
     "duration": 0.023572,
     "end_time": "2022-04-27T03:03:28.030443",
     "exception": false,
     "start_time": "2022-04-27T03:03:28.006871",
     "status": "completed"
    },
    "tags": []
   },
   "source": [
    "# Finding Optimal K value by elbow method"
   ]
  },
  {
   "cell_type": "code",
   "execution_count": 9,
   "id": "35696fb7",
   "metadata": {
    "execution": {
     "iopub.execute_input": "2022-04-27T03:03:28.079863Z",
     "iopub.status.busy": "2022-04-27T03:03:28.079572Z",
     "iopub.status.idle": "2022-04-27T03:03:28.477146Z",
     "shell.execute_reply": "2022-04-27T03:03:28.476415Z"
    },
    "papermill": {
     "duration": 0.424996,
     "end_time": "2022-04-27T03:03:28.479531",
     "exception": false,
     "start_time": "2022-04-27T03:03:28.054535",
     "status": "completed"
    },
    "tags": []
   },
   "outputs": [],
   "source": [
    "from sklearn.cluster import KMeans\n",
    "k_rng = range(1,11)\n",
    "SSE = []\n",
    "for k in k_rng:\n",
    "    KM = KMeans(n_clusters=k)\n",
    "    KM.fit(df[['petal length (cm)','petal width (cm)']])\n",
    "    SSE.append(KM.inertia_)"
   ]
  },
  {
   "cell_type": "code",
   "execution_count": 10,
   "id": "94619285",
   "metadata": {
    "execution": {
     "iopub.execute_input": "2022-04-27T03:03:28.528996Z",
     "iopub.status.busy": "2022-04-27T03:03:28.528747Z",
     "iopub.status.idle": "2022-04-27T03:03:28.671838Z",
     "shell.execute_reply": "2022-04-27T03:03:28.670481Z"
    },
    "papermill": {
     "duration": 0.170673,
     "end_time": "2022-04-27T03:03:28.674873",
     "exception": false,
     "start_time": "2022-04-27T03:03:28.504200",
     "status": "completed"
    },
    "tags": []
   },
   "outputs": [
    {
     "data": {
      "image/png": "[encoded data removed]",
      "text/plain": [
       "<Figure size 432x288 with 1 Axes>"
      ]
     },
     "metadata": {
      "needs_background": "light"
     },
     "output_type": "display_data"
    }
   ],
   "source": [
    "import matplotlib.pyplot as plt\n",
    "plt.xlabel('K')\n",
    "plt.ylabel('SSE')\n",
    "plt.plot(k_rng,SSE)\n",
    "plt.show()"
   ]
  },
  {
   "cell_type": "markdown",
   "id": "2aba910f",
   "metadata": {
    "papermill": {
     "duration": 0.024895,
     "end_time": "2022-04-27T03:03:28.724718",
     "exception": false,
     "start_time": "2022-04-27T03:03:28.699823",
     "status": "completed"
    },
    "tags": []
   },
   "source": [
    "# Building Model of K=3"
   ]
  },
  {
   "cell_type": "code",
   "execution_count": 11,
   "id": "e1e6dfb1",
   "metadata": {
    "execution": {
     "iopub.execute_input": "2022-04-27T03:03:28.775966Z",
     "iopub.status.busy": "2022-04-27T03:03:28.775708Z",
     "iopub.status.idle": "2022-04-27T03:03:28.803974Z",
     "shell.execute_reply": "2022-04-27T03:03:28.803249Z"
    },
    "papermill": {
     "duration": 0.056575,
     "end_time": "2022-04-27T03:03:28.806243",
     "exception": false,
     "start_time": "2022-04-27T03:03:28.749668",
     "status": "completed"
    },
    "tags": []
   },
   "outputs": [
    {
     "data": {
      "text/plain": [
       "array([1, 1, 1, 1, 1, 1, 1, 1, 1, 1, 1, 1, 1, 1, 1, 1, 1, 1, 1, 1, 1, 1,\n",
       "       1, 1, 1, 1, 1, 1, 1, 1, 1, 1, 1, 1, 1, 1, 1, 1, 1, 1, 1, 1, 1, 1,\n",
       "       1, 1, 1, 1, 1, 1, 2, 2, 2, 2, 2, 2, 2, 2, 2, 2, 2, 2, 2, 2, 2, 2,\n",
       "       2, 2, 2, 2, 2, 2, 2, 2, 2, 2, 2, 0, 2, 2, 2, 2, 2, 0, 2, 2, 2, 2,\n",
       "       2, 2, 2, 2, 2, 2, 2, 2, 2, 2, 2, 2, 0, 0, 0, 0, 0, 0, 2, 0, 0, 0,\n",
       "       0, 0, 0, 0, 0, 0, 0, 0, 0, 2, 0, 0, 0, 0, 0, 0, 2, 0, 0, 0, 0, 0,\n",
       "       0, 0, 0, 0, 0, 0, 2, 0, 0, 0, 0, 0, 0, 0, 0, 0, 0, 0], dtype=int32)"
      ]
     },
     "execution_count": 11,
     "metadata": {},
     "output_type": "execute_result"
    }
   ],
   "source": [
    "KMC = KMeans(n_clusters=3)\n",
    "Predict = KMC.fit_predict(df[['petal length (cm)','petal width (cm)']])\n",
    "Predict"
   ]
  },
  {
   "cell_type": "code",
   "execution_count": 12,
   "id": "542841cf",
   "metadata": {
    "execution": {
     "iopub.execute_input": "2022-04-27T03:03:28.858461Z",
     "iopub.status.busy": "2022-04-27T03:03:28.858164Z",
     "iopub.status.idle": "2022-04-27T03:03:28.873948Z",
     "shell.execute_reply": "2022-04-27T03:03:28.873241Z"
    },
    "papermill": {
     "duration": 0.043916,
     "end_time": "2022-04-27T03:03:28.875798",
     "exception": false,
     "start_time": "2022-04-27T03:03:28.831882",
     "status": "completed"
    },
    "tags": []
   },
   "outputs": [
    {
     "data": {
      "text/html": [
       "<div>\n",
       "<style scoped>\n",
       "    .dataframe tbody tr th:only-of-type {\n",
       "        vertical-align: middle;\n",
       "    }\n",
       "\n",
       "    .dataframe tbody tr th {\n",
       "        vertical-align: top;\n",
       "    }\n",
       "\n",
       "    .dataframe thead th {\n",
       "        text-align: right;\n",
       "    }\n",
       "</style>\n",
       "<table border=\"1\" class=\"dataframe\">\n",
       "  <thead>\n",
       "    <tr style=\"text-align: right;\">\n",
       "      <th></th>\n",
       "      <th>petal length (cm)</th>\n",
       "      <th>petal width (cm)</th>\n",
       "      <th>Cluster</th>\n",
       "    </tr>\n",
       "  </thead>\n",
       "  <tbody>\n",
       "    <tr>\n",
       "      <th>0</th>\n",
       "      <td>1.4</td>\n",
       "      <td>0.2</td>\n",
       "      <td>1</td>\n",
       "    </tr>\n",
       "    <tr>\n",
       "      <th>1</th>\n",
       "      <td>1.4</td>\n",
       "      <td>0.2</td>\n",
       "      <td>1</td>\n",
       "    </tr>\n",
       "    <tr>\n",
       "      <th>2</th>\n",
       "      <td>1.3</td>\n",
       "      <td>0.2</td>\n",
       "      <td>1</td>\n",
       "    </tr>\n",
       "    <tr>\n",
       "      <th>3</th>\n",
       "      <td>1.5</td>\n",
       "      <td>0.2</td>\n",
       "      <td>1</td>\n",
       "    </tr>\n",
       "    <tr>\n",
       "      <th>4</th>\n",
       "      <td>1.4</td>\n",
       "      <td>0.2</td>\n",
       "      <td>1</td>\n",
       "    </tr>\n",
       "    <tr>\n",
       "      <th>...</th>\n",
       "      <td>...</td>\n",
       "      <td>...</td>\n",
       "      <td>...</td>\n",
       "    </tr>\n",
       "    <tr>\n",
       "      <th>145</th>\n",
       "      <td>5.2</td>\n",
       "      <td>2.3</td>\n",
       "      <td>0</td>\n",
       "    </tr>\n",
       "    <tr>\n",
       "      <th>146</th>\n",
       "      <td>5.0</td>\n",
       "      <td>1.9</td>\n",
       "      <td>0</td>\n",
       "    </tr>\n",
       "    <tr>\n",
       "      <th>147</th>\n",
       "      <td>5.2</td>\n",
       "      <td>2.0</td>\n",
       "      <td>0</td>\n",
       "    </tr>\n",
       "    <tr>\n",
       "      <th>148</th>\n",
       "      <td>5.4</td>\n",
       "      <td>2.3</td>\n",
       "      <td>0</td>\n",
       "    </tr>\n",
       "    <tr>\n",
       "      <th>149</th>\n",
       "      <td>5.1</td>\n",
       "      <td>1.8</td>\n",
       "      <td>0</td>\n",
       "    </tr>\n",
       "  </tbody>\n",
       "</table>\n",
       "<p>150 rows × 3 columns</p>\n",
       "</div>"
      ],
      "text/plain": [
       "     petal length (cm)  petal width (cm)  Cluster\n",
       "0                  1.4               0.2        1\n",
       "1                  1.4               0.2        1\n",
       "2                  1.3               0.2        1\n",
       "3                  1.5               0.2        1\n",
       "4                  1.4               0.2        1\n",
       "..                 ...               ...      ...\n",
       "145                5.2               2.3        0\n",
       "146                5.0               1.9        0\n",
       "147                5.2               2.0        0\n",
       "148                5.4               2.3        0\n",
       "149                5.1               1.8        0\n",
       "\n",
       "[150 rows x 3 columns]"
      ]
     },
     "execution_count": 12,
     "metadata": {},
     "output_type": "execute_result"
    }
   ],
   "source": [
    "df['Cluster'] = Predict\n",
    "df"
   ]
  },
  {
   "cell_type": "markdown",
   "id": "d3e20b56",
   "metadata": {
    "papermill": {
     "duration": 0.026326,
     "end_time": "2022-04-27T03:03:28.927502",
     "exception": false,
     "start_time": "2022-04-27T03:03:28.901176",
     "status": "completed"
    },
    "tags": []
   },
   "source": [
    "# Centroids of 3 Clusters"
   ]
  },
  {
   "cell_type": "code",
   "execution_count": 13,
   "id": "7775291f",
   "metadata": {
    "execution": {
     "iopub.execute_input": "2022-04-27T03:03:28.983303Z",
     "iopub.status.busy": "2022-04-27T03:03:28.982824Z",
     "iopub.status.idle": "2022-04-27T03:03:28.988479Z",
     "shell.execute_reply": "2022-04-27T03:03:28.987788Z"
    },
    "papermill": {
     "duration": 0.034518,
     "end_time": "2022-04-27T03:03:28.990276",
     "exception": false,
     "start_time": "2022-04-27T03:03:28.955758",
     "status": "completed"
    },
    "tags": []
   },
   "outputs": [
    {
     "data": {
      "text/plain": [
       "array([[5.59583333, 2.0375    ],\n",
       "       [1.462     , 0.246     ],\n",
       "       [4.26923077, 1.34230769]])"
      ]
     },
     "execution_count": 13,
     "metadata": {},
     "output_type": "execute_result"
    }
   ],
   "source": [
    "KMC.cluster_centers_"
   ]
  },
  {
   "cell_type": "code",
   "execution_count": 14,
   "id": "55d2af7f",
   "metadata": {
    "execution": {
     "iopub.execute_input": "2022-04-27T03:03:29.043580Z",
     "iopub.status.busy": "2022-04-27T03:03:29.043317Z",
     "iopub.status.idle": "2022-04-27T03:03:29.247316Z",
     "shell.execute_reply": "2022-04-27T03:03:29.246289Z"
    },
    "papermill": {
     "duration": 0.23358,
     "end_time": "2022-04-27T03:03:29.249405",
     "exception": false,
     "start_time": "2022-04-27T03:03:29.015825",
     "status": "completed"
    },
    "tags": []
   },
   "outputs": [
    {
     "data": {
      "image/png": "[encoded data removed]",
      "text/plain": [
       "<Figure size 432x288 with 1 Axes>"
      ]
     },
     "metadata": {
      "needs_background": "light"
     },
     "output_type": "display_data"
    }
   ],
   "source": [
    "## Separating 3 Clusters\n",
    "df0 = df[df.Cluster==0]\n",
    "df1 = df[df.Cluster==1]\n",
    "df2 = df[df.Cluster==2]\n",
    "# Plotting 3 different clusters\n",
    "plt.scatter(df0['petal length (cm)'],df0['petal width (cm)'],marker='*',color='r')\n",
    "plt.scatter(df1['petal length (cm)'],df1['petal width (cm)'],marker='+',color='g')\n",
    "plt.scatter(df2['petal length (cm)'],df2['petal width (cm)'],marker='*',color='b')\n",
    "#plotting centroids\n",
    "plt.scatter(KMC.cluster_centers_[:,0],KMC.cluster_centers_[:,1],color='black')\n",
    "plt.xlabel('petal length')\n",
    "plt.ylabel('petal width')\n",
    "plt.legend(['Cluster 1','Cluster2','Cluster3'])\n",
    "plt.show()"
   ]
  }
 ],
 "metadata": {
  "kernelspec": {
   "display_name": "Python 3",
   "language": "python",
   "name": "python3"
  },
  "language_info": {
   "codemirror_mode": {
    "name": "ipython",
    "version": 3
   },
   "file_extension": ".py",
   "mimetype": "text/x-python",
   "name": "python",
   "nbconvert_exporter": "python",
   "pygments_lexer": "ipython3",
   "version": "3.7.12"
  },
  "papermill": {
   "default_parameters": {},
   "duration": 16.875458,
   "end_time": "2022-04-27T03:03:30.500375",
   "environment_variables": {},
   "exception": null,
   "input_path": "__notebook__.ipynb",
   "output_path": "__notebook__.ipynb",
   "parameters": {},
   "start_time": "2022-04-27T03:03:13.624917",
   "version": "2.3.4"
  }
 },
 "nbformat": 4,
 "nbformat_minor": 5
}
